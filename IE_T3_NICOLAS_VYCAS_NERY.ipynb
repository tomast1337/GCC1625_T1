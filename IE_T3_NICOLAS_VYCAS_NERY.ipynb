{
 "cells": [
  {
   "cell_type": "code",
   "execution_count": 7,
   "metadata": {},
   "outputs": [],
   "source": [
    "import rich as r\n",
    "\n",
    "print = r.print"
   ]
  },
  {
   "cell_type": "markdown",
   "metadata": {},
   "source": [
    "# Teste de Permutação\n",
    "\n",
    "A Figura 1 mostra os resultados de um experimento no qual 7 de 16 camundongos foram selecionados aleatoriamente para receber um novo tratamento médico, enquanto os 9 restantes foram atribuídos ao grupo sem tratamento (controle). O tratamento tinha como objetivo prolongar a sobrevivência após uma cirurgia de teste. Em particular, a coluna “Data” mostra o tempo de sobrevivência após a cirurgia, em dias, para todos os 16 camundongos. Essa mesma figura também apresenta, para cada amostra: tamanho, média, desvio padrão.\n",
    "\n",
    "Utilize o teste de permutação para responder à seguinte pergunta de pesquisa (use nível de significância igual a 5%): O tratamento prolongou a sobrevivência? Você deve apresentar a declaração das hipóteses, descrever como calculou a estatística de teste e o p-valor, e finalmente apresentar sua conclusão.\n",
    "\n",
    "## Declaração das Hipóteses\n",
    "\n",
    "- **Hipótese Nula (H0):** O tratamento não prolonga a sobrevivência dos camundongos.\n",
    "- **Hipótese Alternativa (H1):** O tratamento prolonga a sobrevivência dos camundongos.\n",
    "\n",
    "## Cálculo da Estatística de Teste e p-valor"
   ]
  },
  {
   "cell_type": "code",
   "execution_count": 13,
   "metadata": {},
   "outputs": [
    {
     "data": {
      "text/html": [
       "<pre style=\"white-space:pre;overflow-x:auto;line-height:normal;font-family:Menlo,'DejaVu Sans Mono',consolas,'Courier New',monospace\">Estatística de teste observada: <span style=\"color: #008080; text-decoration-color: #008080; font-weight: bold\">30.63492063492064</span>\n",
       "</pre>\n"
      ],
      "text/plain": [
       "Estatística de teste observada: \u001b[1;36m30.63492063492064\u001b[0m\n"
      ]
     },
     "metadata": {},
     "output_type": "display_data"
    },
    {
     "data": {
      "text/html": [
       "<pre style=\"white-space:pre;overflow-x:auto;line-height:normal;font-family:Menlo,'DejaVu Sans Mono',consolas,'Courier New',monospace\">p-valor: <span style=\"color: #008080; text-decoration-color: #008080; font-weight: bold\">0.1403</span>\n",
       "</pre>\n"
      ],
      "text/plain": [
       "p-valor: \u001b[1;36m0.1403\u001b[0m\n"
      ]
     },
     "metadata": {},
     "output_type": "display_data"
    },
    {
     "data": {
      "text/html": [
       "<pre style=\"white-space:pre;overflow-x:auto;line-height:normal;font-family:Menlo,'DejaVu Sans Mono',consolas,'Courier New',monospace\">Não rejeitamos a hipótese nula. O tratamento não prolonga a sobrevivência.\n",
       "</pre>\n"
      ],
      "text/plain": [
       "Não rejeitamos a hipótese nula. O tratamento não prolonga a sobrevivência.\n"
      ]
     },
     "metadata": {},
     "output_type": "display_data"
    },
    {
     "data": {
      "image/png": "[encoded data removed]",
      "text/plain": [
       "<Figure size 640x480 with 1 Axes>"
      ]
     },
     "metadata": {},
     "output_type": "display_data"
    },
    {
     "data": {
      "text/html": [
       "<pre style=\"white-space:pre;overflow-x:auto;line-height:normal;font-family:Menlo,'DejaVu Sans Mono',consolas,'Courier New',monospace\">         Grupo  Sobrevivencia\n",
       "<span style=\"color: #008080; text-decoration-color: #008080; font-weight: bold\">0</span>   Tratamento             <span style=\"color: #008080; text-decoration-color: #008080; font-weight: bold\">94</span>\n",
       "<span style=\"color: #008080; text-decoration-color: #008080; font-weight: bold\">1</span>   Tratamento            <span style=\"color: #008080; text-decoration-color: #008080; font-weight: bold\">197</span>\n",
       "<span style=\"color: #008080; text-decoration-color: #008080; font-weight: bold\">2</span>   Tratamento             <span style=\"color: #008080; text-decoration-color: #008080; font-weight: bold\">16</span>\n",
       "<span style=\"color: #008080; text-decoration-color: #008080; font-weight: bold\">3</span>   Tratamento             <span style=\"color: #008080; text-decoration-color: #008080; font-weight: bold\">38</span>\n",
       "<span style=\"color: #008080; text-decoration-color: #008080; font-weight: bold\">4</span>   Tratamento             <span style=\"color: #008080; text-decoration-color: #008080; font-weight: bold\">99</span>\n",
       "<span style=\"color: #008080; text-decoration-color: #008080; font-weight: bold\">5</span>   Tratamento            <span style=\"color: #008080; text-decoration-color: #008080; font-weight: bold\">141</span>\n",
       "<span style=\"color: #008080; text-decoration-color: #008080; font-weight: bold\">6</span>   Tratamento             <span style=\"color: #008080; text-decoration-color: #008080; font-weight: bold\">23</span>\n",
       "<span style=\"color: #008080; text-decoration-color: #008080; font-weight: bold\">7</span>     Controle             <span style=\"color: #008080; text-decoration-color: #008080; font-weight: bold\">52</span>\n",
       "<span style=\"color: #008080; text-decoration-color: #008080; font-weight: bold\">8</span>     Controle            <span style=\"color: #008080; text-decoration-color: #008080; font-weight: bold\">104</span>\n",
       "<span style=\"color: #008080; text-decoration-color: #008080; font-weight: bold\">9</span>     Controle            <span style=\"color: #008080; text-decoration-color: #008080; font-weight: bold\">146</span>\n",
       "<span style=\"color: #008080; text-decoration-color: #008080; font-weight: bold\">10</span>    Controle             <span style=\"color: #008080; text-decoration-color: #008080; font-weight: bold\">10</span>\n",
       "<span style=\"color: #008080; text-decoration-color: #008080; font-weight: bold\">11</span>    Controle             <span style=\"color: #008080; text-decoration-color: #008080; font-weight: bold\">50</span>\n",
       "<span style=\"color: #008080; text-decoration-color: #008080; font-weight: bold\">12</span>    Controle             <span style=\"color: #008080; text-decoration-color: #008080; font-weight: bold\">31</span>\n",
       "<span style=\"color: #008080; text-decoration-color: #008080; font-weight: bold\">13</span>    Controle             <span style=\"color: #008080; text-decoration-color: #008080; font-weight: bold\">40</span>\n",
       "<span style=\"color: #008080; text-decoration-color: #008080; font-weight: bold\">14</span>    Controle             <span style=\"color: #008080; text-decoration-color: #008080; font-weight: bold\">27</span>\n",
       "<span style=\"color: #008080; text-decoration-color: #008080; font-weight: bold\">15</span>    Controle             <span style=\"color: #008080; text-decoration-color: #008080; font-weight: bold\">46</span>\n",
       "</pre>\n"
      ],
      "text/plain": [
       "         Grupo  Sobrevivencia\n",
       "\u001b[1;36m0\u001b[0m   Tratamento             \u001b[1;36m94\u001b[0m\n",
       "\u001b[1;36m1\u001b[0m   Tratamento            \u001b[1;36m197\u001b[0m\n",
       "\u001b[1;36m2\u001b[0m   Tratamento             \u001b[1;36m16\u001b[0m\n",
       "\u001b[1;36m3\u001b[0m   Tratamento             \u001b[1;36m38\u001b[0m\n",
       "\u001b[1;36m4\u001b[0m   Tratamento             \u001b[1;36m99\u001b[0m\n",
       "\u001b[1;36m5\u001b[0m   Tratamento            \u001b[1;36m141\u001b[0m\n",
       "\u001b[1;36m6\u001b[0m   Tratamento             \u001b[1;36m23\u001b[0m\n",
       "\u001b[1;36m7\u001b[0m     Controle             \u001b[1;36m52\u001b[0m\n",
       "\u001b[1;36m8\u001b[0m     Controle            \u001b[1;36m104\u001b[0m\n",
       "\u001b[1;36m9\u001b[0m     Controle            \u001b[1;36m146\u001b[0m\n",
       "\u001b[1;36m10\u001b[0m    Controle             \u001b[1;36m10\u001b[0m\n",
       "\u001b[1;36m11\u001b[0m    Controle             \u001b[1;36m50\u001b[0m\n",
       "\u001b[1;36m12\u001b[0m    Controle             \u001b[1;36m31\u001b[0m\n",
       "\u001b[1;36m13\u001b[0m    Controle             \u001b[1;36m40\u001b[0m\n",
       "\u001b[1;36m14\u001b[0m    Controle             \u001b[1;36m27\u001b[0m\n",
       "\u001b[1;36m15\u001b[0m    Controle             \u001b[1;36m46\u001b[0m\n"
      ]
     },
     "metadata": {},
     "output_type": "display_data"
    }
   ],
   "source": [
    "import numpy as np\n",
    "import scipy.stats as stats\n",
    "import matplotlib.pyplot as plt\n",
    "import pandas as pd\n",
    "\n",
    "tratamento = [\n",
    "    94,\n",
    "    197,\n",
    "    16,\n",
    "    38,\n",
    "    99,\n",
    "    141,\n",
    "    23,\n",
    "]\n",
    "controle = [\n",
    "    52,\n",
    "    104,\n",
    "    146,\n",
    "    10,\n",
    "    50,\n",
    "    31,\n",
    "    40,\n",
    "    27,\n",
    "    46,\n",
    "]\n",
    "data = {\n",
    "    \"Grupo\": [\"Tratamento\"] * len(tratamento) + [\"Controle\"] * len(controle),\n",
    "    \"Sobrevivencia\": tratamento + controle,\n",
    "}\n",
    "\n",
    "df = pd.DataFrame(data)\n",
    "\n",
    "# Estatística de teste observada\n",
    "mean_treatment = df[df[\"Grupo\"] == \"Tratamento\"][\"Sobrevivencia\"].mean()\n",
    "mean_control = df[df[\"Grupo\"] == \"Controle\"][\"Sobrevivencia\"].mean()\n",
    "observed_stat = mean_treatment - mean_control\n",
    "\n",
    "# Função para calcular a estatística de teste para uma permutação\n",
    "def perm_stat(df):\n",
    "    df_permuted = df.copy()\n",
    "    df_permuted[\"Grupo\"] = np.random.permutation(df_permuted[\"Grupo\"])\n",
    "    mean_treatment_perm = df_permuted[df_permuted[\"Grupo\"] == \"Tratamento\"][\n",
    "        \"Sobrevivencia\"\n",
    "    ].mean()\n",
    "    mean_control_perm = df_permuted[df_permuted[\"Grupo\"] == \"Controle\"][\n",
    "        \"Sobrevivencia\"\n",
    "    ].mean()\n",
    "    return mean_treatment_perm - mean_control_perm\n",
    "\n",
    "\n",
    "# Número de permutações\n",
    "n_permutations = 10000\n",
    "\n",
    "# Calcular estatísticas de teste para permutações\n",
    "perm_stats = np.array([perm_stat(df) for _ in range(n_permutations)])\n",
    "\n",
    "# Calcular p-valor\n",
    "p_value = np.mean(perm_stats >= observed_stat)\n",
    "\n",
    "# Resultado\n",
    "print(f\"Estatística de teste observada: {observed_stat}\")\n",
    "print(f\"p-valor: {p_value}\")\n",
    "\n",
    "if p_value < 0.05:\n",
    "    print(\"Rejeitamos a hipótese nula. O tratamento prolonga a sobrevivência.\")\n",
    "else:\n",
    "    print(\"Não rejeitamos a hipótese nula. O tratamento não prolonga a sobrevivência.\")\n",
    "\n",
    "# Plotar histograma das estatísticas de teste permutadas\n",
    "plt.hist(perm_stats, bins=30, edgecolor=\"black\")\n",
    "plt.axvline(observed_stat, color=\"red\", linestyle=\"--\")\n",
    "plt.xlabel(\"Diferença nas médias\")\n",
    "plt.ylabel(\"Frequência\")\n",
    "plt.title(\"Distribuição das diferenças nas médias\")\n",
    "plt.show()\n",
    "\n",
    "print(df)"
   ]
  },
  {
   "cell_type": "markdown",
   "metadata": {},
   "source": [
    "2 Bootstrap\n",
    "Essa parte do trabalho é uma adaptação do Problema 9 na seção 5.4 de An Introduction to Statistical Learning1\n",
    ". O conjunto de dados usado aqui é o denominado\n",
    "Boston dataset. Uma descrição desse conjunto de dados pode ser encontrada em \n",
    "\n",
    "(i) Com base neste conjunto de dados, forneça uma estimativa pontual para a\n",
    "média populacional da variável medv. Chame essa estimativa µˆ.\n",
    "(ii) Forneça uma estimativa do erro padrão de µˆ. Interprete o resultado.\n",
    "(iii) Agora estime o erro padrão de µˆ usando o método Bootstrap. Como essa\n",
    "estimativa se compara com sua resposta de (ii)?\n",
    "(iv) Com base em sua estimativa de bootstrap de (iii), forneça um intervalo de\n",
    "confiança de 95% para a média de medv. Compare-o com os resultados\n",
    "obtidos usando t-test sobre o atributo medv.\n",
    "(v) Com base neste conjunto de dados, forneça uma estimativa, µˆmed, para a\n",
    "mediana populacional de medv.\n",
    "(vi) Agora você deve estimar o erro padrão de µˆmed. Infelizmente, não há uma\n",
    "fórmula simples para calcular o erro padrão da mediana. Em vez disso,\n",
    "estime o erro padrão da mediana usando o método bootstrap. Comente\n",
    "suas descobertas.\n",
    "(vii) Forneça uma estimativa para o décimo percentil do atributo medv. Chame\n",
    "essa quantidade de µˆ0.1.\n",
    "(viii) Use o método bootstrap para estimar o erro padrão de µˆ0.1. Comente suas\n",
    "descobertas."
   ]
  },
  {
   "cell_type": "code",
   "execution_count": null,
   "metadata": {},
   "outputs": [
    {
     "data": {
      "text/html": [
       "<div>\n",
       "<style scoped>\n",
       "    .dataframe tbody tr th:only-of-type {\n",
       "        vertical-align: middle;\n",
       "    }\n",
       "\n",
       "    .dataframe tbody tr th {\n",
       "        vertical-align: top;\n",
       "    }\n",
       "\n",
       "    .dataframe thead th {\n",
       "        text-align: right;\n",
       "    }\n",
       "</style>\n",
       "<table border=\"1\" class=\"dataframe\">\n",
       "  <thead>\n",
       "    <tr style=\"text-align: right;\">\n",
       "      <th></th>\n",
       "      <th></th>\n",
       "      <th></th>\n",
       "      <th></th>\n",
       "      <th></th>\n",
       "      <th></th>\n",
       "      <th></th>\n",
       "      <th></th>\n",
       "      <th></th>\n",
       "      <th></th>\n",
       "      <th></th>\n",
       "      <th></th>\n",
       "      <th></th>\n",
       "      <th>CRIM    \"ZN\"  \"INDUS\" \"CHAS\" \"NOX\"  \"RM\"    \"AGE\" \"DIS\"  \"RAD\"   \"TAX\"    \"PTRATIO\" \"B\"    \"LSTAT\"   \"MEDV\"</th>\n",
       "    </tr>\n",
       "  </thead>\n",
       "  <tbody>\n",
       "    <tr>\n",
       "      <th>0.00632</th>\n",
       "      <th>18.0</th>\n",
       "      <th>2.31</th>\n",
       "      <th>0</th>\n",
       "      <th>0.538</th>\n",
       "      <th>6.575</th>\n",
       "      <th>65.2</th>\n",
       "      <th>4.0900</th>\n",
       "      <th>1</th>\n",
       "      <th>296.0</th>\n",
       "      <th>15.3</th>\n",
       "      <th>396.90</th>\n",
       "      <th>4.98</th>\n",
       "      <td>24.0</td>\n",
       "    </tr>\n",
       "    <tr>\n",
       "      <th>0.02731</th>\n",
       "      <th>0.0</th>\n",
       "      <th>7.07</th>\n",
       "      <th>0</th>\n",
       "      <th>0.469</th>\n",
       "      <th>6.421</th>\n",
       "      <th>78.9</th>\n",
       "      <th>4.9671</th>\n",
       "      <th>2</th>\n",
       "      <th>242.0</th>\n",
       "      <th>17.8</th>\n",
       "      <th>396.90</th>\n",
       "      <th>9.14</th>\n",
       "      <td>21.6</td>\n",
       "    </tr>\n",
       "    <tr>\n",
       "      <th>0.02729</th>\n",
       "      <th>0.0</th>\n",
       "      <th>7.07</th>\n",
       "      <th>0</th>\n",
       "      <th>0.469</th>\n",
       "      <th>7.185</th>\n",
       "      <th>61.1</th>\n",
       "      <th>4.9671</th>\n",
       "      <th>2</th>\n",
       "      <th>242.0</th>\n",
       "      <th>17.8</th>\n",
       "      <th>392.83</th>\n",
       "      <th>4.03</th>\n",
       "      <td>34.7</td>\n",
       "    </tr>\n",
       "    <tr>\n",
       "      <th>0.03237</th>\n",
       "      <th>0.0</th>\n",
       "      <th>2.18</th>\n",
       "      <th>0</th>\n",
       "      <th>0.458</th>\n",
       "      <th>6.998</th>\n",
       "      <th>45.8</th>\n",
       "      <th>6.0622</th>\n",
       "      <th>3</th>\n",
       "      <th>222.0</th>\n",
       "      <th>18.7</th>\n",
       "      <th>394.63</th>\n",
       "      <th>2.94</th>\n",
       "      <td>33.4</td>\n",
       "    </tr>\n",
       "    <tr>\n",
       "      <th>0.06905</th>\n",
       "      <th>0.0</th>\n",
       "      <th>2.18</th>\n",
       "      <th>0</th>\n",
       "      <th>0.458</th>\n",
       "      <th>7.147</th>\n",
       "      <th>54.2</th>\n",
       "      <th>6.0622</th>\n",
       "      <th>3</th>\n",
       "      <th>222.0</th>\n",
       "      <th>18.7</th>\n",
       "      <th>396.90</th>\n",
       "      <th>5.33</th>\n",
       "      <td>36.2</td>\n",
       "    </tr>\n",
       "  </tbody>\n",
       "</table>\n",
       "</div>"
      ],
      "text/plain": [
       "                                                                      CRIM    \"ZN\"  \"INDUS\" \"CHAS\" \"NOX\"  \"RM\"    \"AGE\" \"DIS\"  \"RAD\"   \"TAX\"    \"PTRATIO\" \"B\"    \"LSTAT\"   \"MEDV\"\n",
       "0.00632 18.0 2.31 0 0.538 6.575 65.2 4.0900 1 296.0 15.3 396.90 4.98                                               24.0                                                          \n",
       "0.02731 0.0  7.07 0 0.469 6.421 78.9 4.9671 2 242.0 17.8 396.90 9.14                                               21.6                                                          \n",
       "0.02729 0.0  7.07 0 0.469 7.185 61.1 4.9671 2 242.0 17.8 392.83 4.03                                               34.7                                                          \n",
       "0.03237 0.0  2.18 0 0.458 6.998 45.8 6.0622 3 222.0 18.7 394.63 2.94                                               33.4                                                          \n",
       "0.06905 0.0  2.18 0 0.458 7.147 54.2 6.0622 3 222.0 18.7 396.90 5.33                                               36.2                                                          "
      ]
     },
     "execution_count": 17,
     "metadata": {},
     "output_type": "execute_result"
    }
   ],
   "source": [
    "import numpy as np\n",
    "import pandas as pd\n",
    "import matplotlib.pyplot as plt\n",
    "# Carregar o conjunto de dados Boston\n",
    "# boston = pd.read_csv(\"https://raw.githubusercontent.com/selva86/datasets/master/BostonHousing.csv\")\n",
    "df = pd.read_csv('./boston.csv', sep=',')\n",
    "\n",
    "# Visualizar os primeiros registros do conjunto de dados\n",
    "df.head()"
   ]
  }
 ],
 "metadata": {
  "kernelspec": {
   "display_name": "Python 3",
   "language": "python",
   "name": "python3"
  },
  "language_info": {
   "codemirror_mode": {
    "name": "ipython",
    "version": 3
   },
   "file_extension": ".py",
   "mimetype": "text/x-python",
   "name": "python",
   "nbconvert_exporter": "python",
   "pygments_lexer": "ipython3",
   "version": "3.13.1"
  }
 },
 "nbformat": 4,
 "nbformat_minor": 2
}
