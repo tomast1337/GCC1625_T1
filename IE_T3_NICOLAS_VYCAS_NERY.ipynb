{
 "cells": [
  {
   "cell_type": "code",
   "execution_count": 25,
   "metadata": {},
   "outputs": [],
   "source": [
    "import rich as r\n",
    "\n",
    "print = r.print"
   ]
  },
  {
   "cell_type": "markdown",
   "metadata": {},
   "source": [
    "# Teste de Permutação\n",
    "\n",
    "A Figura 1 mostra os resultados de um experimento no qual 7 de 16 camundongos foram selecionados aleatoriamente para receber um novo tratamento médico, enquanto os 9 restantes foram atribuídos ao grupo sem tratamento (controle). O tratamento tinha como objetivo prolongar a sobrevivência após uma cirurgia de teste. Em particular, a coluna “Data” mostra o tempo de sobrevivência após a cirurgia, em dias, para todos os 16 camundongos. Essa mesma figura também apresenta, para cada amostra: tamanho, média, desvio padrão.\n",
    "\n",
    "Utilize o teste de permutação para responder à seguinte pergunta de pesquisa (use nível de significância igual a 5%): O tratamento prolongou a sobrevivência? Você deve apresentar a declaração das hipóteses, descrever como calculou a estatística de teste e o p-valor, e finalmente apresentar sua conclusão.\n",
    "\n",
    "## Declaração das Hipóteses\n",
    "\n",
    "- **Hipótese Nula (H0):** O tratamento não prolonga a sobrevivência dos camundongos.\n",
    "- **Hipótese Alternativa (H1):** O tratamento prolonga a sobrevivência dos camundongos.\n",
    "\n",
    "## Cálculo da Estatística de Teste e p-valor"
   ]
  },
  {
   "cell_type": "code",
   "execution_count": 29,
   "metadata": {},
   "outputs": [
    {
     "data": {
      "text/html": [
       "<pre style=\"white-space:pre;overflow-x:auto;line-height:normal;font-family:Menlo,'DejaVu Sans Mono',consolas,'Courier New',monospace\">Estatística de teste observada: <span style=\"color: #008080; text-decoration-color: #008080; font-weight: bold\">30.63492063492064</span>\n",
       "</pre>\n"
      ],
      "text/plain": [
       "Estatística de teste observada: \u001b[1;36m30.63492063492064\u001b[0m\n"
      ]
     },
     "metadata": {},
     "output_type": "display_data"
    },
    {
     "data": {
      "text/html": [
       "<pre style=\"white-space:pre;overflow-x:auto;line-height:normal;font-family:Menlo,'DejaVu Sans Mono',consolas,'Courier New',monospace\">p-valor: <span style=\"color: #008080; text-decoration-color: #008080; font-weight: bold\">0.1398</span>\n",
       "</pre>\n"
      ],
      "text/plain": [
       "p-valor: \u001b[1;36m0.1398\u001b[0m\n"
      ]
     },
     "metadata": {},
     "output_type": "display_data"
    },
    {
     "data": {
      "text/html": [
       "<pre style=\"white-space:pre;overflow-x:auto;line-height:normal;font-family:Menlo,'DejaVu Sans Mono',consolas,'Courier New',monospace\">Não rejeitamos a hipótese nula. O tratamento não prolonga a sobrevivência.\n",
       "</pre>\n"
      ],
      "text/plain": [
       "Não rejeitamos a hipótese nula. O tratamento não prolonga a sobrevivência.\n"
      ]
     },
     "metadata": {},
     "output_type": "display_data"
    },
    {
     "data": {
      "image/png": "[encoded data removed]",
      "text/plain": [
       "<Figure size 640x480 with 1 Axes>"
      ]
     },
     "metadata": {},
     "output_type": "display_data"
    },
    {
     "data": {
      "text/html": [
       "<pre style=\"white-space:pre;overflow-x:auto;line-height:normal;font-family:Menlo,'DejaVu Sans Mono',consolas,'Courier New',monospace\">         Grupo  Sobrevivencia\n",
       "<span style=\"color: #008080; text-decoration-color: #008080; font-weight: bold\">0</span>   Tratamento             <span style=\"color: #008080; text-decoration-color: #008080; font-weight: bold\">94</span>\n",
       "<span style=\"color: #008080; text-decoration-color: #008080; font-weight: bold\">1</span>   Tratamento            <span style=\"color: #008080; text-decoration-color: #008080; font-weight: bold\">197</span>\n",
       "<span style=\"color: #008080; text-decoration-color: #008080; font-weight: bold\">2</span>   Tratamento             <span style=\"color: #008080; text-decoration-color: #008080; font-weight: bold\">16</span>\n",
       "<span style=\"color: #008080; text-decoration-color: #008080; font-weight: bold\">3</span>   Tratamento             <span style=\"color: #008080; text-decoration-color: #008080; font-weight: bold\">38</span>\n",
       "<span style=\"color: #008080; text-decoration-color: #008080; font-weight: bold\">4</span>   Tratamento             <span style=\"color: #008080; text-decoration-color: #008080; font-weight: bold\">99</span>\n",
       "<span style=\"color: #008080; text-decoration-color: #008080; font-weight: bold\">5</span>   Tratamento            <span style=\"color: #008080; text-decoration-color: #008080; font-weight: bold\">141</span>\n",
       "<span style=\"color: #008080; text-decoration-color: #008080; font-weight: bold\">6</span>   Tratamento             <span style=\"color: #008080; text-decoration-color: #008080; font-weight: bold\">23</span>\n",
       "<span style=\"color: #008080; text-decoration-color: #008080; font-weight: bold\">7</span>     Controle             <span style=\"color: #008080; text-decoration-color: #008080; font-weight: bold\">52</span>\n",
       "<span style=\"color: #008080; text-decoration-color: #008080; font-weight: bold\">8</span>     Controle            <span style=\"color: #008080; text-decoration-color: #008080; font-weight: bold\">104</span>\n",
       "<span style=\"color: #008080; text-decoration-color: #008080; font-weight: bold\">9</span>     Controle            <span style=\"color: #008080; text-decoration-color: #008080; font-weight: bold\">146</span>\n",
       "<span style=\"color: #008080; text-decoration-color: #008080; font-weight: bold\">10</span>    Controle             <span style=\"color: #008080; text-decoration-color: #008080; font-weight: bold\">10</span>\n",
       "<span style=\"color: #008080; text-decoration-color: #008080; font-weight: bold\">11</span>    Controle             <span style=\"color: #008080; text-decoration-color: #008080; font-weight: bold\">50</span>\n",
       "<span style=\"color: #008080; text-decoration-color: #008080; font-weight: bold\">12</span>    Controle             <span style=\"color: #008080; text-decoration-color: #008080; font-weight: bold\">31</span>\n",
       "<span style=\"color: #008080; text-decoration-color: #008080; font-weight: bold\">13</span>    Controle             <span style=\"color: #008080; text-decoration-color: #008080; font-weight: bold\">40</span>\n",
       "<span style=\"color: #008080; text-decoration-color: #008080; font-weight: bold\">14</span>    Controle             <span style=\"color: #008080; text-decoration-color: #008080; font-weight: bold\">27</span>\n",
       "<span style=\"color: #008080; text-decoration-color: #008080; font-weight: bold\">15</span>    Controle             <span style=\"color: #008080; text-decoration-color: #008080; font-weight: bold\">46</span>\n",
       "</pre>\n"
      ],
      "text/plain": [
       "         Grupo  Sobrevivencia\n",
       "\u001b[1;36m0\u001b[0m   Tratamento             \u001b[1;36m94\u001b[0m\n",
       "\u001b[1;36m1\u001b[0m   Tratamento            \u001b[1;36m197\u001b[0m\n",
       "\u001b[1;36m2\u001b[0m   Tratamento             \u001b[1;36m16\u001b[0m\n",
       "\u001b[1;36m3\u001b[0m   Tratamento             \u001b[1;36m38\u001b[0m\n",
       "\u001b[1;36m4\u001b[0m   Tratamento             \u001b[1;36m99\u001b[0m\n",
       "\u001b[1;36m5\u001b[0m   Tratamento            \u001b[1;36m141\u001b[0m\n",
       "\u001b[1;36m6\u001b[0m   Tratamento             \u001b[1;36m23\u001b[0m\n",
       "\u001b[1;36m7\u001b[0m     Controle             \u001b[1;36m52\u001b[0m\n",
       "\u001b[1;36m8\u001b[0m     Controle            \u001b[1;36m104\u001b[0m\n",
       "\u001b[1;36m9\u001b[0m     Controle            \u001b[1;36m146\u001b[0m\n",
       "\u001b[1;36m10\u001b[0m    Controle             \u001b[1;36m10\u001b[0m\n",
       "\u001b[1;36m11\u001b[0m    Controle             \u001b[1;36m50\u001b[0m\n",
       "\u001b[1;36m12\u001b[0m    Controle             \u001b[1;36m31\u001b[0m\n",
       "\u001b[1;36m13\u001b[0m    Controle             \u001b[1;36m40\u001b[0m\n",
       "\u001b[1;36m14\u001b[0m    Controle             \u001b[1;36m27\u001b[0m\n",
       "\u001b[1;36m15\u001b[0m    Controle             \u001b[1;36m46\u001b[0m\n"
      ]
     },
     "metadata": {},
     "output_type": "display_data"
    }
   ],
   "source": [
    "import numpy as np\n",
    "import scipy.stats as stats\n",
    "import matplotlib.pyplot as plt\n",
    "import pandas as pd\n",
    "\n",
    "tratamento = [\n",
    "    94,\n",
    "    197,\n",
    "    16,\n",
    "    38,\n",
    "    99,\n",
    "    141,\n",
    "    23,\n",
    "]\n",
    "controle = [\n",
    "    52,\n",
    "    104,\n",
    "    146,\n",
    "    10,\n",
    "    50,\n",
    "    31,\n",
    "    40,\n",
    "    27,\n",
    "    46,\n",
    "]\n",
    "data = {\n",
    "    \"Grupo\": [\"Tratamento\"] * len(tratamento) + [\"Controle\"] * len(controle),\n",
    "    \"Sobrevivencia\": tratamento + controle,\n",
    "}\n",
    "\n",
    "df = pd.DataFrame(data)\n",
    "\n",
    "# Estatística de teste observada\n",
    "mean_treatment = df[df[\"Grupo\"] == \"Tratamento\"][\"Sobrevivencia\"].mean()\n",
    "mean_control = df[df[\"Grupo\"] == \"Controle\"][\"Sobrevivencia\"].mean()\n",
    "observed_stat = mean_treatment - mean_control\n",
    "\n",
    "# Função para calcular a estatística de teste para uma permutação\n",
    "def perm_stat(df):\n",
    "    df_permuted = df.copy()\n",
    "    df_permuted[\"Grupo\"] = np.random.permutation(df_permuted[\"Grupo\"])\n",
    "    mean_treatment_perm = df_permuted[df_permuted[\"Grupo\"] == \"Tratamento\"][\n",
    "        \"Sobrevivencia\"\n",
    "    ].mean()\n",
    "    mean_control_perm = df_permuted[df_permuted[\"Grupo\"] == \"Controle\"][\n",
    "        \"Sobrevivencia\"\n",
    "    ].mean()\n",
    "    return mean_treatment_perm - mean_control_perm\n",
    "\n",
    "\n",
    "# Número de permutações\n",
    "n_permutations = 10000\n",
    "\n",
    "# Calcular estatísticas de teste para permutações\n",
    "perm_stats = np.array([perm_stat(df) for _ in range(n_permutations)])\n",
    "\n",
    "# Calcular p-valor\n",
    "p_value = np.mean(perm_stats >= observed_stat)\n",
    "\n",
    "# Resultado\n",
    "print(f\"Estatística de teste observada: {observed_stat}\")\n",
    "print(f\"p-valor: {p_value}\")\n",
    "\n",
    "if p_value < 0.05:\n",
    "    print(\"Rejeitamos a hipótese nula. O tratamento prolonga a sobrevivência.\")\n",
    "else:\n",
    "    print(\"Não rejeitamos a hipótese nula. O tratamento não prolonga a sobrevivência.\")\n",
    "\n",
    "# Plotar histograma das estatísticas de teste permutadas\n",
    "plt.hist(perm_stats, bins=30, edgecolor=\"black\")\n",
    "plt.axvline(observed_stat, color=\"red\", linestyle=\"--\")\n",
    "plt.xlabel(\"Diferença nas médias\")\n",
    "plt.ylabel(\"Frequência\")\n",
    "plt.title(\"Distribuição das diferenças nas médias\")\n",
    "plt.show()\n",
    "\n",
    "print(df)"
   ]
  },
  {
   "cell_type": "markdown",
   "metadata": {},
   "source": [
    "### Explicação do Teste de Permutação  \n",
    "\n",
    "O teste de permutação é um teste **não paramétrico**, ou seja, ele não assume que os dados seguem uma distribuição específica, como a normal ou t de Student. Isso o torna útil em situações onde temos **amostras pequenas** ou **distribuições desconhecidas**, como no caso desta análise.  \n",
    "\n",
    "Nosso objetivo é verificar se há uma **diferença estatisticamente significativa** entre os grupos **Tratamento** e **Controle** em relação ao tempo de sobrevivência. Para isso, formulamos as seguintes hipóteses:  \n",
    "\n",
    "- **Hipótese nula ($H_0$):** A média do grupo Tratamento não é maior que a do grupo Controle. Ou seja, a diferença observada entre as médias pode ser explicada pelo acaso.  \n",
    "- **Hipótese alternativa ($H_A$):** A média do grupo Tratamento é maior que a do grupo Controle, indicando que o tratamento teve efeito.  \n",
    "\n",
    "### Procedimento do Teste  \n",
    "\n",
    "O teste de permutação segue os seguintes passos:  \n",
    "\n",
    "1. **Cálculo da estatística observada:**  \n",
    "   - Calculamos a diferença entre a média do grupo Tratamento e a média do grupo Controle.  \n",
    "\n",
    "2. **Geração da distribuição nula por permutação:**  \n",
    "   - Se a hipótese nula for verdadeira, a designação dos indivíduos aos grupos Tratamento e Controle é aleatória.  \n",
    "   - Para simular essa aleatoriedade, embaralhamos as etiquetas dos grupos e recalculamos a diferença de médias para essa nova atribuição.  \n",
    "   - Esse processo é repetido **10.000 vezes** para criar uma distribuição de diferenças sob a hipótese nula.  \n",
    "\n",
    "3. **Cálculo do p-valor:**  \n",
    "   - O **p-valor** é a proporção de permutações em que a diferença de médias simulada foi **maior ou igual** à diferença observada.  \n",
    "   - Se o p-valor for menor que 0.05 (nível de significância comum), rejeitamos $H_0$ e concluímos que o tratamento teve efeito. Caso contrário, não há evidência suficiente para rejeitar a hipótese nula.  \n",
    "\n",
    "### Resultados  \n",
    "\n",
    "- **Estatística de teste observada:** ≈ 30.63  \n",
    "- **p-valor:** 0.1408  \n",
    "\n",
    "O p-valor é maior que 0.05, indicando que **não há evidência estatisticamente significativa** para rejeitar a hipótese nula. Assim, **não podemos concluir que o tratamento prolonga a sobrevivência**.  \n",
    "\n",
    "### Visualização  \n",
    "\n",
    "O histograma mostra a distribuição das diferenças de médias geradas por permutação. A linha vermelha indica a diferença observada nos dados reais. Como essa diferença não está em uma região extrema da distribuição, isso reforça a conclusão de que ela pode ter ocorrido por acaso.  "
   ]
  },
  {
   "cell_type": "markdown",
   "metadata": {},
   "source": [
    "# Bootstrap\n",
    "\n",
    "Essa parte do trabalho é uma adaptação do Problema 9 na seção 5.4 de *An Introduction to Statistical Learning*. O conjunto de dados usado aqui é o denominado Boston dataset. Uma descrição desse conjunto de dados pode ser encontrada em \n",
    "\n",
    "(i) Com base neste conjunto de dados, forneça uma estimativa pontual para a média populacional da variável `medv`. Chame essa estimativa \\(\\hat{\\mu}\\).\n",
    "\n",
    "(ii) Forneça uma estimativa do erro padrão de \\(\\hat{\\mu}\\). Interprete o resultado.\n",
    "\n",
    "(iii) Agora estime o erro padrão de \\(\\hat{\\mu}\\) usando o método Bootstrap. Como essa estimativa se compara com sua resposta de (ii)?\n",
    "\n",
    "(iv) Com base em sua estimativa de bootstrap de (iii), forneça um intervalo de confiança de 95% para a média de `medv`. Compare-o com os resultados obtidos usando t-test sobre o atributo `medv`.\n",
    "\n",
    "(v) Com base neste conjunto de dados, forneça uma estimativa, \\(\\hat{\\mu}_{med}\\), para a mediana populacional de `medv`.\n",
    "\n",
    "(vi) Agora você deve estimar o erro padrão de \\(\\hat{\\mu}_{med}\\). Infelizmente, não há uma fórmula simples para calcular o erro padrão da mediana. Em vez disso, estime o erro padrão da mediana usando o método bootstrap. Comente suas descobertas.\n",
    "\n",
    "(vii) Forneça uma estimativa para o décimo percentil do atributo `medv`. Chame essa quantidade de \\(\\hat{\\mu}_{0.1}\\).\n",
    "\n",
    "(viii) Use o método bootstrap para estimar o erro padrão de \\(\\hat{\\mu}_{0.1}\\). Comente suas descobertas."
   ]
  },
  {
   "cell_type": "code",
   "execution_count": 30,
   "metadata": {},
   "outputs": [
    {
     "data": {
      "text/html": [
       "<pre style=\"white-space:pre;overflow-x:auto;line-height:normal;font-family:Menlo,'DejaVu Sans Mono',consolas,'Courier New',monospace\">      CRIM    ZN  INDUS  CHAS    NOX     RM   AGE     DIS  RAD    TAX  \\\n",
       "<span style=\"color: #008080; text-decoration-color: #008080; font-weight: bold\">0</span>  <span style=\"color: #008080; text-decoration-color: #008080; font-weight: bold\">0.00632</span>  <span style=\"color: #008080; text-decoration-color: #008080; font-weight: bold\">18.0</span>   <span style=\"color: #008080; text-decoration-color: #008080; font-weight: bold\">2.31</span>     <span style=\"color: #008080; text-decoration-color: #008080; font-weight: bold\">0</span>  <span style=\"color: #008080; text-decoration-color: #008080; font-weight: bold\">0.538</span>  <span style=\"color: #008080; text-decoration-color: #008080; font-weight: bold\">6.575</span>  <span style=\"color: #008080; text-decoration-color: #008080; font-weight: bold\">65.2</span>  <span style=\"color: #008080; text-decoration-color: #008080; font-weight: bold\">4.0900</span>    <span style=\"color: #008080; text-decoration-color: #008080; font-weight: bold\">1</span>  <span style=\"color: #008080; text-decoration-color: #008080; font-weight: bold\">296.0</span>   \n",
       "<span style=\"color: #008080; text-decoration-color: #008080; font-weight: bold\">1</span>  <span style=\"color: #008080; text-decoration-color: #008080; font-weight: bold\">0.02731</span>   <span style=\"color: #008080; text-decoration-color: #008080; font-weight: bold\">0.0</span>   <span style=\"color: #008080; text-decoration-color: #008080; font-weight: bold\">7.07</span>     <span style=\"color: #008080; text-decoration-color: #008080; font-weight: bold\">0</span>  <span style=\"color: #008080; text-decoration-color: #008080; font-weight: bold\">0.469</span>  <span style=\"color: #008080; text-decoration-color: #008080; font-weight: bold\">6.421</span>  <span style=\"color: #008080; text-decoration-color: #008080; font-weight: bold\">78.9</span>  <span style=\"color: #008080; text-decoration-color: #008080; font-weight: bold\">4.9671</span>    <span style=\"color: #008080; text-decoration-color: #008080; font-weight: bold\">2</span>  <span style=\"color: #008080; text-decoration-color: #008080; font-weight: bold\">242.0</span>   \n",
       "<span style=\"color: #008080; text-decoration-color: #008080; font-weight: bold\">2</span>  <span style=\"color: #008080; text-decoration-color: #008080; font-weight: bold\">0.02729</span>   <span style=\"color: #008080; text-decoration-color: #008080; font-weight: bold\">0.0</span>   <span style=\"color: #008080; text-decoration-color: #008080; font-weight: bold\">7.07</span>     <span style=\"color: #008080; text-decoration-color: #008080; font-weight: bold\">0</span>  <span style=\"color: #008080; text-decoration-color: #008080; font-weight: bold\">0.469</span>  <span style=\"color: #008080; text-decoration-color: #008080; font-weight: bold\">7.185</span>  <span style=\"color: #008080; text-decoration-color: #008080; font-weight: bold\">61.1</span>  <span style=\"color: #008080; text-decoration-color: #008080; font-weight: bold\">4.9671</span>    <span style=\"color: #008080; text-decoration-color: #008080; font-weight: bold\">2</span>  <span style=\"color: #008080; text-decoration-color: #008080; font-weight: bold\">242.0</span>   \n",
       "<span style=\"color: #008080; text-decoration-color: #008080; font-weight: bold\">3</span>  <span style=\"color: #008080; text-decoration-color: #008080; font-weight: bold\">0.03237</span>   <span style=\"color: #008080; text-decoration-color: #008080; font-weight: bold\">0.0</span>   <span style=\"color: #008080; text-decoration-color: #008080; font-weight: bold\">2.18</span>     <span style=\"color: #008080; text-decoration-color: #008080; font-weight: bold\">0</span>  <span style=\"color: #008080; text-decoration-color: #008080; font-weight: bold\">0.458</span>  <span style=\"color: #008080; text-decoration-color: #008080; font-weight: bold\">6.998</span>  <span style=\"color: #008080; text-decoration-color: #008080; font-weight: bold\">45.8</span>  <span style=\"color: #008080; text-decoration-color: #008080; font-weight: bold\">6.0622</span>    <span style=\"color: #008080; text-decoration-color: #008080; font-weight: bold\">3</span>  <span style=\"color: #008080; text-decoration-color: #008080; font-weight: bold\">222.0</span>   \n",
       "<span style=\"color: #008080; text-decoration-color: #008080; font-weight: bold\">4</span>  <span style=\"color: #008080; text-decoration-color: #008080; font-weight: bold\">0.06905</span>   <span style=\"color: #008080; text-decoration-color: #008080; font-weight: bold\">0.0</span>   <span style=\"color: #008080; text-decoration-color: #008080; font-weight: bold\">2.18</span>     <span style=\"color: #008080; text-decoration-color: #008080; font-weight: bold\">0</span>  <span style=\"color: #008080; text-decoration-color: #008080; font-weight: bold\">0.458</span>  <span style=\"color: #008080; text-decoration-color: #008080; font-weight: bold\">7.147</span>  <span style=\"color: #008080; text-decoration-color: #008080; font-weight: bold\">54.2</span>  <span style=\"color: #008080; text-decoration-color: #008080; font-weight: bold\">6.0622</span>    <span style=\"color: #008080; text-decoration-color: #008080; font-weight: bold\">3</span>  <span style=\"color: #008080; text-decoration-color: #008080; font-weight: bold\">222.0</span>   \n",
       "\n",
       "   PTRATIO       B  LSTAT  MEDV  \n",
       "<span style=\"color: #008080; text-decoration-color: #008080; font-weight: bold\">0</span>     <span style=\"color: #008080; text-decoration-color: #008080; font-weight: bold\">15.3</span>  <span style=\"color: #008080; text-decoration-color: #008080; font-weight: bold\">396.90</span>   <span style=\"color: #008080; text-decoration-color: #008080; font-weight: bold\">4.98</span>  <span style=\"color: #008080; text-decoration-color: #008080; font-weight: bold\">24.0</span>  \n",
       "<span style=\"color: #008080; text-decoration-color: #008080; font-weight: bold\">1</span>     <span style=\"color: #008080; text-decoration-color: #008080; font-weight: bold\">17.8</span>  <span style=\"color: #008080; text-decoration-color: #008080; font-weight: bold\">396.90</span>   <span style=\"color: #008080; text-decoration-color: #008080; font-weight: bold\">9.14</span>  <span style=\"color: #008080; text-decoration-color: #008080; font-weight: bold\">21.6</span>  \n",
       "<span style=\"color: #008080; text-decoration-color: #008080; font-weight: bold\">2</span>     <span style=\"color: #008080; text-decoration-color: #008080; font-weight: bold\">17.8</span>  <span style=\"color: #008080; text-decoration-color: #008080; font-weight: bold\">392.83</span>   <span style=\"color: #008080; text-decoration-color: #008080; font-weight: bold\">4.03</span>  <span style=\"color: #008080; text-decoration-color: #008080; font-weight: bold\">34.7</span>  \n",
       "<span style=\"color: #008080; text-decoration-color: #008080; font-weight: bold\">3</span>     <span style=\"color: #008080; text-decoration-color: #008080; font-weight: bold\">18.7</span>  <span style=\"color: #008080; text-decoration-color: #008080; font-weight: bold\">394.63</span>   <span style=\"color: #008080; text-decoration-color: #008080; font-weight: bold\">2.94</span>  <span style=\"color: #008080; text-decoration-color: #008080; font-weight: bold\">33.4</span>  \n",
       "<span style=\"color: #008080; text-decoration-color: #008080; font-weight: bold\">4</span>     <span style=\"color: #008080; text-decoration-color: #008080; font-weight: bold\">18.7</span>  <span style=\"color: #008080; text-decoration-color: #008080; font-weight: bold\">396.90</span>   <span style=\"color: #008080; text-decoration-color: #008080; font-weight: bold\">5.33</span>  <span style=\"color: #008080; text-decoration-color: #008080; font-weight: bold\">36.2</span>  \n",
       "</pre>\n"
      ],
      "text/plain": [
       "      CRIM    ZN  INDUS  CHAS    NOX     RM   AGE     DIS  RAD    TAX  \\\n",
       "\u001b[1;36m0\u001b[0m  \u001b[1;36m0.00632\u001b[0m  \u001b[1;36m18.0\u001b[0m   \u001b[1;36m2.31\u001b[0m     \u001b[1;36m0\u001b[0m  \u001b[1;36m0.538\u001b[0m  \u001b[1;36m6.575\u001b[0m  \u001b[1;36m65.2\u001b[0m  \u001b[1;36m4.0900\u001b[0m    \u001b[1;36m1\u001b[0m  \u001b[1;36m296.0\u001b[0m   \n",
       "\u001b[1;36m1\u001b[0m  \u001b[1;36m0.02731\u001b[0m   \u001b[1;36m0.0\u001b[0m   \u001b[1;36m7.07\u001b[0m     \u001b[1;36m0\u001b[0m  \u001b[1;36m0.469\u001b[0m  \u001b[1;36m6.421\u001b[0m  \u001b[1;36m78.9\u001b[0m  \u001b[1;36m4.9671\u001b[0m    \u001b[1;36m2\u001b[0m  \u001b[1;36m242.0\u001b[0m   \n",
       "\u001b[1;36m2\u001b[0m  \u001b[1;36m0.02729\u001b[0m   \u001b[1;36m0.0\u001b[0m   \u001b[1;36m7.07\u001b[0m     \u001b[1;36m0\u001b[0m  \u001b[1;36m0.469\u001b[0m  \u001b[1;36m7.185\u001b[0m  \u001b[1;36m61.1\u001b[0m  \u001b[1;36m4.9671\u001b[0m    \u001b[1;36m2\u001b[0m  \u001b[1;36m242.0\u001b[0m   \n",
       "\u001b[1;36m3\u001b[0m  \u001b[1;36m0.03237\u001b[0m   \u001b[1;36m0.0\u001b[0m   \u001b[1;36m2.18\u001b[0m     \u001b[1;36m0\u001b[0m  \u001b[1;36m0.458\u001b[0m  \u001b[1;36m6.998\u001b[0m  \u001b[1;36m45.8\u001b[0m  \u001b[1;36m6.0622\u001b[0m    \u001b[1;36m3\u001b[0m  \u001b[1;36m222.0\u001b[0m   \n",
       "\u001b[1;36m4\u001b[0m  \u001b[1;36m0.06905\u001b[0m   \u001b[1;36m0.0\u001b[0m   \u001b[1;36m2.18\u001b[0m     \u001b[1;36m0\u001b[0m  \u001b[1;36m0.458\u001b[0m  \u001b[1;36m7.147\u001b[0m  \u001b[1;36m54.2\u001b[0m  \u001b[1;36m6.0622\u001b[0m    \u001b[1;36m3\u001b[0m  \u001b[1;36m222.0\u001b[0m   \n",
       "\n",
       "   PTRATIO       B  LSTAT  MEDV  \n",
       "\u001b[1;36m0\u001b[0m     \u001b[1;36m15.3\u001b[0m  \u001b[1;36m396.90\u001b[0m   \u001b[1;36m4.98\u001b[0m  \u001b[1;36m24.0\u001b[0m  \n",
       "\u001b[1;36m1\u001b[0m     \u001b[1;36m17.8\u001b[0m  \u001b[1;36m396.90\u001b[0m   \u001b[1;36m9.14\u001b[0m  \u001b[1;36m21.6\u001b[0m  \n",
       "\u001b[1;36m2\u001b[0m     \u001b[1;36m17.8\u001b[0m  \u001b[1;36m392.83\u001b[0m   \u001b[1;36m4.03\u001b[0m  \u001b[1;36m34.7\u001b[0m  \n",
       "\u001b[1;36m3\u001b[0m     \u001b[1;36m18.7\u001b[0m  \u001b[1;36m394.63\u001b[0m   \u001b[1;36m2.94\u001b[0m  \u001b[1;36m33.4\u001b[0m  \n",
       "\u001b[1;36m4\u001b[0m     \u001b[1;36m18.7\u001b[0m  \u001b[1;36m396.90\u001b[0m   \u001b[1;36m5.33\u001b[0m  \u001b[1;36m36.2\u001b[0m  \n"
      ]
     },
     "metadata": {},
     "output_type": "display_data"
    },
    {
     "data": {
      "text/html": [
       "<pre style=\"white-space:pre;overflow-x:auto;line-height:normal;font-family:Menlo,'DejaVu Sans Mono',consolas,'Courier New',monospace\"><span style=\"font-weight: bold\">(</span>i<span style=\"font-weight: bold\">)</span> Estimativa pontual para a média populacional <span style=\"font-weight: bold\">(</span>mu_hat<span style=\"font-weight: bold\">)</span>: <span style=\"color: #008080; text-decoration-color: #008080; font-weight: bold\">22.532806324110677</span>\n",
       "</pre>\n"
      ],
      "text/plain": [
       "\u001b[1m(\u001b[0mi\u001b[1m)\u001b[0m Estimativa pontual para a média populacional \u001b[1m(\u001b[0mmu_hat\u001b[1m)\u001b[0m: \u001b[1;36m22.532806324110677\u001b[0m\n"
      ]
     },
     "metadata": {},
     "output_type": "display_data"
    },
    {
     "data": {
      "text/html": [
       "<pre style=\"white-space:pre;overflow-x:auto;line-height:normal;font-family:Menlo,'DejaVu Sans Mono',consolas,'Courier New',monospace\"><span style=\"font-weight: bold\">(</span>ii<span style=\"font-weight: bold\">)</span> Erro padrão de mu_hat usando bootstrap: <span style=\"color: #008080; text-decoration-color: #008080; font-weight: bold\">0.4017375489799291</span>\n",
       "</pre>\n"
      ],
      "text/plain": [
       "\u001b[1m(\u001b[0mii\u001b[1m)\u001b[0m Erro padrão de mu_hat usando bootstrap: \u001b[1;36m0.4017375489799291\u001b[0m\n"
      ]
     },
     "metadata": {},
     "output_type": "display_data"
    },
    {
     "data": {
      "text/html": [
       "<pre style=\"white-space:pre;overflow-x:auto;line-height:normal;font-family:Menlo,'DejaVu Sans Mono',consolas,'Courier New',monospace\"><span style=\"font-weight: bold\">(</span>iii<span style=\"font-weight: bold\">)</span> Intervalo de confiança de <span style=\"color: #008080; text-decoration-color: #008080; font-weight: bold\">95</span>% para a média de medv usando bootstrap: <span style=\"font-weight: bold\">(</span><span style=\"color: #008080; text-decoration-color: #008080; font-weight: bold\">21.794061264822137</span>, <span style=\"color: #008080; text-decoration-color: #008080; font-weight: bold\">23.31940217391304</span><span style=\"font-weight: bold\">)</span>\n",
       "</pre>\n"
      ],
      "text/plain": [
       "\u001b[1m(\u001b[0miii\u001b[1m)\u001b[0m Intervalo de confiança de \u001b[1;36m95\u001b[0m% para a média de medv usando bootstrap: \u001b[1m(\u001b[0m\u001b[1;36m21.794061264822137\u001b[0m, \u001b[1;36m23.31940217391304\u001b[0m\u001b[1m)\u001b[0m\n"
      ]
     },
     "metadata": {},
     "output_type": "display_data"
    },
    {
     "data": {
      "text/html": [
       "<pre style=\"white-space:pre;overflow-x:auto;line-height:normal;font-family:Menlo,'DejaVu Sans Mono',consolas,'Courier New',monospace\"><span style=\"font-weight: bold\">(</span>iv<span style=\"font-weight: bold\">)</span> Estimativa para a mediana populacional <span style=\"font-weight: bold\">(</span>median_hat<span style=\"font-weight: bold\">)</span>: <span style=\"color: #008080; text-decoration-color: #008080; font-weight: bold\">21.2</span>\n",
       "</pre>\n"
      ],
      "text/plain": [
       "\u001b[1m(\u001b[0miv\u001b[1m)\u001b[0m Estimativa para a mediana populacional \u001b[1m(\u001b[0mmedian_hat\u001b[1m)\u001b[0m: \u001b[1;36m21.2\u001b[0m\n"
      ]
     },
     "metadata": {},
     "output_type": "display_data"
    },
    {
     "data": {
      "text/html": [
       "<pre style=\"white-space:pre;overflow-x:auto;line-height:normal;font-family:Menlo,'DejaVu Sans Mono',consolas,'Courier New',monospace\"><span style=\"font-weight: bold\">(</span>v<span style=\"font-weight: bold\">)</span> Erro padrão da mediana usando bootstrap: <span style=\"color: #008080; text-decoration-color: #008080; font-weight: bold\">0.3632685507995425</span>\n",
       "</pre>\n"
      ],
      "text/plain": [
       "\u001b[1m(\u001b[0mv\u001b[1m)\u001b[0m Erro padrão da mediana usando bootstrap: \u001b[1;36m0.3632685507995425\u001b[0m\n"
      ]
     },
     "metadata": {},
     "output_type": "display_data"
    },
    {
     "data": {
      "text/html": [
       "<pre style=\"white-space:pre;overflow-x:auto;line-height:normal;font-family:Menlo,'DejaVu Sans Mono',consolas,'Courier New',monospace\"><span style=\"font-weight: bold\">(</span>vi<span style=\"font-weight: bold\">)</span> Erro padrão da mediana usando bootstrap: <span style=\"color: #008080; text-decoration-color: #008080; font-weight: bold\">0.3771033810508729</span>\n",
       "</pre>\n"
      ],
      "text/plain": [
       "\u001b[1m(\u001b[0mvi\u001b[1m)\u001b[0m Erro padrão da mediana usando bootstrap: \u001b[1;36m0.3771033810508729\u001b[0m\n"
      ]
     },
     "metadata": {},
     "output_type": "display_data"
    },
    {
     "data": {
      "text/html": [
       "<pre style=\"white-space:pre;overflow-x:auto;line-height:normal;font-family:Menlo,'DejaVu Sans Mono',consolas,'Courier New',monospace\"><span style=\"font-weight: bold\">(</span>vii<span style=\"font-weight: bold\">)</span> Estimativa para o décimo percentil <span style=\"font-weight: bold\">(</span>percentile_10_hat<span style=\"font-weight: bold\">)</span>: <span style=\"color: #008080; text-decoration-color: #008080; font-weight: bold\">12.75</span>\n",
       "</pre>\n"
      ],
      "text/plain": [
       "\u001b[1m(\u001b[0mvii\u001b[1m)\u001b[0m Estimativa para o décimo percentil \u001b[1m(\u001b[0mpercentile_10_hat\u001b[1m)\u001b[0m: \u001b[1;36m12.75\u001b[0m\n"
      ]
     },
     "metadata": {},
     "output_type": "display_data"
    },
    {
     "data": {
      "text/html": [
       "<pre style=\"white-space:pre;overflow-x:auto;line-height:normal;font-family:Menlo,'DejaVu Sans Mono',consolas,'Courier New',monospace\"><span style=\"font-weight: bold\">(</span>viii<span style=\"font-weight: bold\">)</span> Erro padrão do décimo percentil usando bootstrap: <span style=\"color: #008080; text-decoration-color: #008080; font-weight: bold\">0.506606629940825</span>\n",
       "</pre>\n"
      ],
      "text/plain": [
       "\u001b[1m(\u001b[0mviii\u001b[1m)\u001b[0m Erro padrão do décimo percentil usando bootstrap: \u001b[1;36m0.506606629940825\u001b[0m\n"
      ]
     },
     "metadata": {},
     "output_type": "display_data"
    }
   ],
   "source": [
    "import numpy as np\n",
    "import pandas as pd\n",
    "import matplotlib.pyplot as plt\n",
    "# Carregar o conjunto de dados Boston\n",
    "# boston = pd.read_csv(\"https://raw.githubusercontent.com/selva86/datasets/master/BostonHousing.csv\")\n",
    "df = pd.read_csv('./boston.csv', sep=',')\n",
    "# Visualizar os primeiros registros do conjunto de dados\n",
    "print(df.head())\n",
    "\n",
    "# Estimativa pontual para a média populacional da variável medv\n",
    "mu_hat = df['MEDV'].mean()\n",
    "print(f\"(i) Estimativa pontual para a média populacional (mu_hat): {mu_hat}\")\n",
    "\n",
    "# Função para calcular a média em uma amostra bootstrap\n",
    "def bootstrap_mean(data, n_bootstrap=1000):\n",
    "    bootstrap_means = []\n",
    "    for _ in range(n_bootstrap):\n",
    "        sample = np.random.choice(data, size=len(data), replace=True)\n",
    "        bootstrap_means.append(np.mean(sample))\n",
    "    return np.std(bootstrap_means)\n",
    "\n",
    "# Estimativa do erro padrão usando bootstrap\n",
    "bootstrap_std_error = bootstrap_mean(df['MEDV'].values)\n",
    "print(f\"(ii) Erro padrão de mu_hat usando bootstrap: {bootstrap_std_error}\")\n",
    "\n",
    "# Função para calcular o intervalo de confiança usando bootstrap\n",
    "def bootstrap_ci(data, n_bootstrap=1000, ci=95):\n",
    "    bootstrap_means = []\n",
    "    for _ in range(n_bootstrap):\n",
    "        sample = np.random.choice(data, size=len(data), replace=True)\n",
    "        bootstrap_means.append(np.mean(sample))\n",
    "    lower_bound = np.percentile(bootstrap_means, (100-ci)/2)\n",
    "    upper_bound = np.percentile(bootstrap_means, 100-(100-ci)/2)\n",
    "    return lower_bound, upper_bound\n",
    "\n",
    "# Intervalo de confiança de 95% usando bootstrap\n",
    "ci_lower, ci_upper = bootstrap_ci(df['MEDV'].values)\n",
    "print(\n",
    "    f\"(iii) Intervalo de confiança de 95% para a média de medv usando bootstrap: ({ci_lower}, {ci_upper})\"\n",
    ")\n",
    "\n",
    "# Estimativa para a mediana populacional de medv\n",
    "median_hat = df['MEDV'].median()\n",
    "print(f\"(iv) Estimativa para a mediana populacional (median_hat): {median_hat}\")\n",
    "\n",
    "# Função para calcular a mediana em uma amostra bootstrap\n",
    "def bootstrap_median(data, n_bootstrap=1000):\n",
    "    bootstrap_medians = []\n",
    "    for _ in range(n_bootstrap):\n",
    "        sample = np.random.choice(data, size=len(data), replace=True)\n",
    "        bootstrap_medians.append(np.median(sample))\n",
    "    return np.std(bootstrap_medians)\n",
    "\n",
    "# Estimativa do erro padrão da mediana usando bootstrap\n",
    "bootstrap_median_std_error = bootstrap_median(df['MEDV'].values)\n",
    "print(f\"(v) Erro padrão da mediana usando bootstrap: {bootstrap_median_std_error}\")\n",
    "\n",
    "# Função para calcular a mediana em uma amostra bootstrap\n",
    "def bootstrap_median(data, n_bootstrap=1000):\n",
    "    bootstrap_medians = []\n",
    "    for _ in range(n_bootstrap):\n",
    "        sample = np.random.choice(data, size=len(data), replace=True)\n",
    "        bootstrap_medians.append(np.median(sample))\n",
    "    return np.std(bootstrap_medians)\n",
    "\n",
    "# Estimativa do erro padrão da mediana usando bootstrap\n",
    "bootstrap_median_std_error = bootstrap_median(df['MEDV'].values)\n",
    "print(f\"(vi) Erro padrão da mediana usando bootstrap: {bootstrap_median_std_error}\")\n",
    "\n",
    "# Estimativa para o décimo percentil do atributo medv\n",
    "percentile_10_hat = np.percentile(df['MEDV'], 10)\n",
    "print(f\"(vii) Estimativa para o décimo percentil (percentile_10_hat): {percentile_10_hat}\")\n",
    "\n",
    "# Função para calcular o décimo percentil em uma amostra bootstrap\n",
    "def bootstrap_percentile(data, percentile=10, n_bootstrap=1000):\n",
    "    bootstrap_percentiles = []\n",
    "    for _ in range(n_bootstrap):\n",
    "        sample = np.random.choice(data, size=len(data), replace=True)\n",
    "        bootstrap_percentiles.append(np.percentile(sample, percentile))\n",
    "    return np.std(bootstrap_percentiles)\n",
    "\n",
    "# Estimativa do erro padrão do décimo percentil usando bootstrap\n",
    "bootstrap_percentile_std_error = bootstrap_percentile(df['MEDV'].values, percentile=10)\n",
    "print(f\"(viii) Erro padrão do décimo percentil usando bootstrap: {bootstrap_percentile_std_error}\")"
   ]
  },
  {
   "cell_type": "markdown",
   "metadata": {},
   "source": [
    "### Explicação do Exercício de Bootstrap com o Conjunto de Dados Boston\n",
    "\n",
    "O objetivo desse exercício foi aplicar técnicas estatísticas para estimar a média, mediana e percentis da variável `MEDV` (valor médio das casas ocupadas pelos proprietários) no conjunto de dados Boston, além de calcular erros padrão e intervalos de confiança usando o **método Bootstrap**.\n",
    "\n",
    "---\n",
    "\n",
    "## **Passo a Passo do Exercício**\n",
    "\n",
    "### **(i) Estimativa Pontual da Média Populacional (\\(\\hat{\\mu}\\))**\n",
    "A estimativa pontual da média da variável `MEDV` foi calculada simplesmente tirando a média dos valores dessa variável no conjunto de dados. Esse valor é uma aproximação da média real da população.\n",
    "\n",
    "**Resultado:**  \n",
    "\\(\\hat{\\mu} = 22.53\\) (aproximadamente)\n",
    "\n",
    "Isso significa que o valor médio das casas no conjunto de dados é **22,53 mil dólares**.\n",
    "\n",
    "---\n",
    "\n",
    "### **(ii) Estimativa do Erro Padrão da Média (\\(\\hat{\\mu}\\))**\n",
    "O erro padrão mede a variabilidade da estimativa da média. Ele indica o quão preciso é o valor estimado da média em relação à verdadeira média populacional. Ele pode ser calculado de maneira analítica, mas aqui foi estimado pelo método **Bootstrap**.\n",
    "\n",
    "---\n",
    "\n",
    "### **(iii) Estimativa do Erro Padrão da Média Usando Bootstrap**\n",
    "O método **Bootstrap** consiste em:\n",
    "1. Criar várias **amostras aleatórias** retiradas com reposição do conjunto de dados original.\n",
    "2. Para cada uma dessas amostras, calcular a **média**.\n",
    "3. Medir a **dispersão** dessas médias (usando desvio padrão).\n",
    "\n",
    "O erro padrão estimado com Bootstrap foi **0.40**, o que indica uma baixa variabilidade da média.\n",
    "\n",
    "Além disso, foi construído um **intervalo de confiança de 95%** para a média populacional de `MEDV`. Isso significa que, com 95% de confiança, a verdadeira média populacional está no intervalo **(21.76, 23.38)**.\n",
    "\n",
    "---\n",
    "\n",
    "### **(iv) Estimativa da Mediana Populacional (\\(\\hat{\\mu}_{med}\\))**\n",
    "A **mediana** representa o valor central dos dados, ou seja, o ponto em que 50% dos valores são menores e 50% são maiores.\n",
    "\n",
    "**Resultado:**  \n",
    "A mediana estimada foi **21.2**, indicando que metade das casas no conjunto de dados têm um valor abaixo de **21.2 mil dólares** e a outra metade acima disso.\n",
    "\n",
    "---\n",
    "\n",
    "### **(v) Estimativa do Erro Padrão da Mediana Usando Bootstrap**\n",
    "Diferente da média, **não existe uma fórmula exata para calcular o erro padrão da mediana**. Portanto, usamos o **Bootstrap**:\n",
    "\n",
    "1. Criamos várias amostras aleatórias retiradas com reposição.\n",
    "2. Para cada amostra, calculamos a **mediana**.\n",
    "3. Calculamos o desvio padrão dessas medianas.\n",
    "\n",
    "O erro padrão estimado foi **aproximadamente 0.38**, mostrando que a estimativa da mediana tem uma variabilidade um pouco menor do que a média.\n",
    "\n",
    "---\n",
    "\n",
    "### **(vi) Repetição da Estimativa do Erro Padrão da Mediana**\n",
    "A mesma técnica do Bootstrap foi usada novamente para calcular o erro padrão da mediana, resultando em um valor próximo (**0.37**), reforçando a estabilidade da estimativa.\n",
    "\n",
    "---\n",
    "\n",
    "### **(vii) Estimativa do Décimo Percentil (\\(\\hat{\\mu}_{0.1}\\))**\n",
    "O **décimo percentil** é o valor abaixo do qual **10% das casas** estão situadas.\n",
    "\n",
    "**Resultado:**  \n",
    "O valor estimado para o décimo percentil foi **12.75**, o que significa que **10% das casas mais baratas têm valores abaixo de 12.75 mil dólares**.\n",
    "\n",
    "---\n",
    "\n",
    "### **(viii) Estimativa do Erro Padrão do Décimo Percentil Usando Bootstrap**\n",
    "Novamente, como não há uma fórmula exata para o erro padrão do décimo percentil, usamos o **Bootstrap**:\n",
    "\n",
    "1. Criamos várias amostras aleatórias retiradas com reposição.\n",
    "2. Para cada amostra, calculamos o **décimo percentil**.\n",
    "3. O erro padrão foi estimado como o desvio padrão dessas estimativas.\n",
    "\n",
    "O erro padrão foi **0.50**, o que indica uma certa variabilidade na estimativa do décimo percentil."
   ]
  },
  {
   "cell_type": "markdown",
   "metadata": {},
   "source": [
    "# Teste de Permutação vs Bootstrap\n",
    "\n",
    "Uma empresa quer saber se é eficiente ensinar novas ferramentas aos seus funcionários usando cursos pela internet. A empresa seleciona aleatoriamente 7 trabalhadores e os atribui a dois grupos de tamanhos 4 e 3. O primeiro grupo frequentou aulas tradicionais, e o segundo frequentou cursos pela internet. Após a realização dos cursos, foi aplicado um teste aos trabalhadores, cujos resultados foram:\n",
    "\n",
    "- **Cursos na Internet**: 37, 49, 55, 57\n",
    "- **Cursos tradicionais**: 23, 31, 46\n",
    "\n",
    "Mostre se os cursos da Internet são mais efetivos do que os cursos tradicionais. Para isso, aplique um teste de permutação e um teste de bootstrap. Os dois testes levam à mesma conclusão?"
   ]
  },
  {
   "cell_type": "code",
   "execution_count": 33,
   "metadata": {},
   "outputs": [
    {
     "data": {
      "text/html": [
       "<pre style=\"white-space:pre;overflow-x:auto;line-height:normal;font-family:Menlo,'DejaVu Sans Mono',consolas,'Courier New',monospace\">Estatística de teste observada: <span style=\"color: #008080; text-decoration-color: #008080; font-weight: bold\">16.166666666666664</span>\n",
       "</pre>\n"
      ],
      "text/plain": [
       "Estatística de teste observada: \u001b[1;36m16.166666666666664\u001b[0m\n"
      ]
     },
     "metadata": {},
     "output_type": "display_data"
    },
    {
     "data": {
      "text/html": [
       "<pre style=\"white-space:pre;overflow-x:auto;line-height:normal;font-family:Menlo,'DejaVu Sans Mono',consolas,'Courier New',monospace\">p-valor <span style=\"font-weight: bold\">(</span>bicaudal<span style=\"font-weight: bold\">)</span>: <span style=\"color: #008080; text-decoration-color: #008080; font-weight: bold\">0.1093</span>\n",
       "</pre>\n"
      ],
      "text/plain": [
       "p-valor \u001b[1m(\u001b[0mbicaudal\u001b[1m)\u001b[0m: \u001b[1;36m0.1093\u001b[0m\n"
      ]
     },
     "metadata": {},
     "output_type": "display_data"
    },
    {
     "data": {
      "text/html": [
       "<pre style=\"white-space:pre;overflow-x:auto;line-height:normal;font-family:Menlo,'DejaVu Sans Mono',consolas,'Courier New',monospace\">Não rejeitamos a hipótese nula. Não há evidência suficiente para afirmar que os cursos pela internet são mais \n",
       "efetivos.\n",
       "</pre>\n"
      ],
      "text/plain": [
       "Não rejeitamos a hipótese nula. Não há evidência suficiente para afirmar que os cursos pela internet são mais \n",
       "efetivos.\n"
      ]
     },
     "metadata": {},
     "output_type": "display_data"
    },
    {
     "data": {
      "text/html": [
       "<pre style=\"white-space:pre;overflow-x:auto;line-height:normal;font-family:Menlo,'DejaVu Sans Mono',consolas,'Courier New',monospace\">Diferença média observada: <span style=\"color: #008080; text-decoration-color: #008080; font-weight: bold\">16.166666666666664</span>\n",
       "</pre>\n"
      ],
      "text/plain": [
       "Diferença média observada: \u001b[1;36m16.166666666666664\u001b[0m\n"
      ]
     },
     "metadata": {},
     "output_type": "display_data"
    },
    {
     "data": {
      "text/html": [
       "<pre style=\"white-space:pre;overflow-x:auto;line-height:normal;font-family:Menlo,'DejaVu Sans Mono',consolas,'Courier New',monospace\">Intervalo de confiança de <span style=\"color: #008080; text-decoration-color: #008080; font-weight: bold\">95</span>%: <span style=\"font-weight: bold\">(</span><span style=\"color: #008080; text-decoration-color: #008080; font-weight: bold\">3.0</span>, <span style=\"color: #008080; text-decoration-color: #008080; font-weight: bold\">28.833333333333332</span><span style=\"font-weight: bold\">)</span>\n",
       "</pre>\n"
      ],
      "text/plain": [
       "Intervalo de confiança de \u001b[1;36m95\u001b[0m%: \u001b[1m(\u001b[0m\u001b[1;36m3.0\u001b[0m, \u001b[1;36m28.833333333333332\u001b[0m\u001b[1m)\u001b[0m\n"
      ]
     },
     "metadata": {},
     "output_type": "display_data"
    },
    {
     "data": {
      "text/html": [
       "<pre style=\"white-space:pre;overflow-x:auto;line-height:normal;font-family:Menlo,'DejaVu Sans Mono',consolas,'Courier New',monospace\">Rejeitamos a hipótese nula. Os cursos pela internet são mais efetivos.\n",
       "</pre>\n"
      ],
      "text/plain": [
       "Rejeitamos a hipótese nula. Os cursos pela internet são mais efetivos.\n"
      ]
     },
     "metadata": {},
     "output_type": "display_data"
    }
   ],
   "source": [
    "import numpy as np\n",
    "\n",
    "# Dados dos resultados dos testes\n",
    "internet = np.array([37, 49, 55, 57])\n",
    "tradicional = np.array([23, 31, 46])\n",
    "\n",
    "# Estatística de teste observada (diferença nas médias)\n",
    "observed_stat = internet.mean() - tradicional.mean()\n",
    "\n",
    "\n",
    "# Função para calcular a estatística de teste para uma permutação\n",
    "def perm_stat(internet, tradicional):\n",
    "    combined = np.concatenate([internet, tradicional])\n",
    "    np.random.shuffle(combined)\n",
    "    new_internet = combined[: len(internet)]\n",
    "    new_tradicional = combined[len(internet) :]\n",
    "    return new_internet.mean() - new_tradicional.mean()\n",
    "\n",
    "\n",
    "# Número de permutações\n",
    "n_permutations = 10000\n",
    "\n",
    "# Calcular estatísticas de teste para permutações\n",
    "perm_stats = np.array([perm_stat(internet, tradicional) for _ in range(n_permutations)])\n",
    "\n",
    "# Calcular p-valor (teste bicaudal)\n",
    "p_value = np.mean(np.abs(perm_stats) >= np.abs(observed_stat))\n",
    "\n",
    "# Resultado do teste de permutação\n",
    "print(f\"Estatística de teste observada: {observed_stat}\")\n",
    "print(f\"p-valor (bicaudal): {p_value}\")\n",
    "\n",
    "if p_value < 0.05:\n",
    "    print(\"Rejeitamos a hipótese nula. Os cursos pela internet são mais efetivos.\")\n",
    "else:\n",
    "    print(\n",
    "        \"Não rejeitamos a hipótese nula. Não há evidência suficiente para afirmar que os cursos pela internet são mais efetivos.\"\n",
    "    )\n",
    "\n",
    "# -------------------------------\n",
    "# Teste Bootstrap\n",
    "# -------------------------------\n",
    "\n",
    "\n",
    "# Função para calcular a diferença média em uma amostra bootstrap\n",
    "def bootstrap_diff_mean(internet, tradicional, n_bootstrap=10000):\n",
    "    bootstrap_diffs = []\n",
    "    for _ in range(n_bootstrap):\n",
    "        sample_internet = np.random.choice(internet, size=len(internet), replace=True)\n",
    "        sample_tradicional = np.random.choice(\n",
    "            tradicional, size=len(tradicional), replace=True\n",
    "        )\n",
    "        bootstrap_diffs.append(sample_internet.mean() - sample_tradicional.mean())\n",
    "    return np.array(bootstrap_diffs)\n",
    "\n",
    "\n",
    "# Realizar bootstrap\n",
    "bootstrap_diffs = bootstrap_diff_mean(internet, tradicional)\n",
    "\n",
    "# Calcular intervalo de confiança de 95%\n",
    "ci_lower = np.percentile(bootstrap_diffs, 2.5)\n",
    "ci_upper = np.percentile(bootstrap_diffs, 97.5)\n",
    "\n",
    "# Resultado do teste bootstrap\n",
    "print(f\"Diferença média observada: {observed_stat}\")\n",
    "print(f\"Intervalo de confiança de 95%: ({ci_lower}, {ci_upper})\")\n",
    "\n",
    "# Teste bicaudal: verifica se o intervalo inclui zero\n",
    "if ci_lower > 0 or ci_upper < 0:\n",
    "    print(\"Rejeitamos a hipótese nula. Os cursos pela internet são mais efetivos.\")\n",
    "else:\n",
    "    print(\n",
    "        \"Não rejeitamos a hipótese nula. Não há evidência suficiente para afirmar que os cursos pela internet são mais efetivos.\"\n",
    "    )"
   ]
  },
  {
   "cell_type": "markdown",
   "metadata": {},
   "source": [
    "### **Análise Atualizada dos Resultados**  \n",
    "\n",
    "Os dois testes estatísticos forneceram **conclusões diferentes**.\n",
    "\n",
    "## **1. Teste de Permutação (Bicaudal)**  \n",
    "Saída:  \n",
    "```\n",
    "Estatística de teste observada: 16.166666666666664\n",
    "p-valor (bicaudal): 0.1093\n",
    "Não rejeitamos a hipótese nula. Não há evidência suficiente para afirmar que os cursos pela internet são mais efetivos.\n",
    "```\n",
    "- O **p-valor** obtido foi **0.1093**, ou seja, **acima de 0.05**.  \n",
    "- Isso significa que, segundo esse teste, **não há evidência estatística suficiente para afirmar que os cursos online são mais eficazes do que os cursos tradicionais**.\n",
    "- O valor **não é extremamente alto**, o que indica que pode haver uma tendência, mas não é forte o suficiente para rejeitar \\(H_0\\) com um nível de significância de 5%.\n",
    "\n",
    "**Interpretação:**  \n",
    "- O teste de permutação é **mais conservador** e exige uma evidência forte para rejeitar \\(H_0\\).\n",
    "- A amostra é **pequena** (apenas 7 trabalhadores), o que pode levar a resultados instáveis.\n",
    "- O fato de o \\(p\\)-valor ser **acima de 0.05**, mas não muito alto, pode sugerir que existe um efeito, mas **não conseguimos detectá-lo com certeza**.\n",
    "\n",
    "---\n",
    "\n",
    "## **2. Teste de Bootstrap (Bicaudal)**  \n",
    "Saída:  \n",
    "```\n",
    "Diferença média observada: 16.166666666666664\n",
    "Intervalo de confiança de 95%: (3.0, 28.833333333333332)\n",
    "Rejeitamos a hipótese nula. Os cursos pela internet são mais efetivos.\n",
    "```\n",
    "- O **intervalo de confiança de 95%** para a diferença das médias foi **(3.0, 28.83)**.\n",
    "- Como **zero não está dentro do intervalo**, podemos **rejeitar a hipótese nula** e concluir que os cursos online **são mais eficazes**.\n",
    "- O fato de o intervalo estar deslocado para valores positivos sugere que **o método online tem um impacto positivo na pontuação dos trabalhadores**.\n",
    "\n",
    "**Interpretação:**  \n",
    "- O bootstrap usa **reamostragem com reposição**, permitindo mais flexibilidade para estimar o efeito da diferença entre os grupos.\n",
    "- Como a amostra é pequena, o bootstrap pode ser **mais eficiente para capturar tendências** do que o teste de permutação.\n",
    "- A presença de **zero fora do intervalo** indica que existe uma diferença estatisticamente significativa a favor dos cursos online.\n",
    "\n",
    "---\n",
    "\n",
    "## **Conclusão Final: Por que os testes deram respostas diferentes?**\n",
    "Os testes estatísticos às vezes fornecem resultados diferentes devido a como eles lidam com **amostras pequenas** e **distribuições dos dados**.  \n",
    "\n",
    "| **Teste**          | **Resultado** |\n",
    "|--------------------|--------------|\n",
    "| **Permutação**     | Não rejeita \\(H_0\\) (\\(p = 0.1093\\)) |\n",
    "| **Bootstrap**      | Rejeita \\(H_0\\) (IC positivo) |\n",
    "\n",
    "### **Principais fatores para essa diferença:**\n",
    "1. **O teste de permutação exige evidências mais fortes.**  \n",
    "   - Ele redistribui os dados para ver se a diferença real poderia ter ocorrido por acaso.  \n",
    "   - Com uma amostra pequena, pode ser difícil alcançar um \\(p\\)-valor abaixo de 0.05.  \n",
    "\n",
    "2. **O bootstrap é mais flexível e pode detectar efeitos menores.**  \n",
    "   - Ele constrói um intervalo de confiança para a diferença, o que pode ser mais informativo do que um simples \\(p\\)-valor.  \n",
    "   - Como o intervalo não inclui zero, isso indica um efeito positivo dos cursos online.  \n",
    "\n",
    "### **O que isso significa para a empresa?**\n",
    "- **Se apenas o teste de permutação fosse usado**, diríamos que **não há evidências suficientes** para afirmar que os cursos online são melhores.  \n",
    "- **Se apenas o bootstrap fosse usado**, concluiríamos que **os cursos online são significativamente mais eficazes**.  \n",
    "\n",
    "Dado que os testes discordam, uma **decisão conservadora** seria **coletar mais dados** antes de tomar uma decisão final. Uma amostra maior tornaria os testes mais confiáveis.  \n",
    "\n",
    "---\n",
    "\n",
    "## **Recomendações**\n",
    "- **Aumentar o tamanho da amostra** para obter resultados mais confiáveis.  \n",
    "- **Usar mais testes estatísticos** (por exemplo, um **teste t de Student**).  \n",
    "- **Considerar um nível de significância menos rigoroso** (exemplo: \\(0.10\\) em vez de \\(0.05\\)).  \n",
    "\n",
    "No momento, o **bootstrap sugere que os cursos online são eficazes**, mas o **teste de permutação não encontrou evidências fortes o suficiente** para confirmar essa conclusão. Isso sugere que pode haver uma vantagem real, mas **a amostra pequena impede uma conclusão definitiva**.  "
   ]
  }
 ],
 "metadata": {
  "kernelspec": {
   "display_name": "Python 3",
   "language": "python",
   "name": "python3"
  },
  "language_info": {
   "codemirror_mode": {
    "name": "ipython",
    "version": 3
   },
   "file_extension": ".py",
   "mimetype": "text/x-python",
   "name": "python",
   "nbconvert_exporter": "python",
   "pygments_lexer": "ipython3",
   "version": "3.13.1"
  }
 },
 "nbformat": 4,
 "nbformat_minor": 2
}
